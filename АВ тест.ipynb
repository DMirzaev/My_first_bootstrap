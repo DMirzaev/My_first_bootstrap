{
 "cells": [
  {
   "cell_type": "code",
   "execution_count": 4,
   "metadata": {},
   "outputs": [],
   "source": [
    " import pandas as pd\n",
    "import numpy as np\n",
    "import matplotlib.pyplot as plt\n",
    "import seaborn as sns\n",
    "import scipy.stats as ss\n",
    "import scikit_posthocs as sp\n",
    "import pingouin as pg\n",
    "from scipy.stats import norm\n",
    "from scipy.stats import ttest_ind\n",
    "from scipy.stats import mannwhitneyu\n",
    "from scipy.stats import bootstrap\n",
    "import requests\n",
    "from urllib.parse import urlencode\n",
    "import json\n",
    "import requests"
   ]
  },
  {
   "cell_type": "markdown",
   "metadata": {},
   "source": [
    "## A/B–тестирование\n",
    "### 1.1 Условие\n",
    "\n",
    "Одной из основных задач аналитика в нашей команде является корректное проведение экспериментов. Для этого мы применяем метод A/B–тестирования. В ходе тестирования одной гипотезы целевой группе была предложена новая механика оплаты услуг на сайте, у контрольной группы оставалась базовая механика. В качестве задания вам необходимо проанализировать итоги эксперимента и сделать вывод, стоит ли запускать новую механику оплаты на всех пользователей.\n",
    "\n",
    "### 1.2 Входные данные\n",
    "\n",
    "В качестве входных данных вы имеете 4 csv-файла:\n",
    "\n",
    "groups.csv – файл с информацией о принадлежности пользователя к контрольной или экспериментальной группе (А – контроль, B – целевая группа) \n",
    "groups_add.csv – дополнительный файл с пользователями, который вам прислали спустя 2 дня после передачи данных\n",
    "active_studs.csv – файл с информацией о пользователях, которые зашли на платформу в дни проведения эксперимента. \n",
    "checks.csv – файл с информацией об оплатах пользователей в дни проведения эксперимента. \n",
    "\n",
    "### 1.3 Вопросы\n",
    "\n",
    "Предлагаем вам ответить на следующие вопросы:\n",
    "\n",
    "На какие метрики вы смотрите в ходе анализа и почему?\n",
    "Имеются ли различия в показателях и с чем они могут быть связаны?\n",
    "Являются ли эти различия статистически значимыми?\n",
    "Стоит ли запускать новую механику на всех пользователей?\n",
    "Данный список вопросов не является обязательным, и вы можете при своём ответе опираться на собственный план.\n",
    "\n",
    "### 1.4 Требования к ответу\n",
    "\n",
    "При выполнении тестового задания необходимо использовать язык программирования Python. \n",
    "В файле обязательно должны быть комментарии к тем действиям, которые вы выполняете с данными. \n",
    "Файл должен представлять собой законченный отчёт с выводами, сделанными в ходе исследования."
   ]
  },
  {
   "cell_type": "markdown",
   "metadata": {},
   "source": [
    "Выгрузим все файлы и проанализируем что у нас есть. Посмотрим на типы данных, размеры датафреймов, количество пропущенных значений и так далее."
   ]
  },
  {
   "cell_type": "code",
   "execution_count": 11,
   "metadata": {},
   "outputs": [],
   "source": [
    "from download import download_yd\n",
    "\n",
    "groups = download_yd('https://disk.yandex.ru/d/bCDO-nYqqALthw',';')\n",
    "groups_add = download_yd('https://disk.yandex.ru/d/5Kxrz02m3IBUwQ',',')\n",
    "active_studs = download_yd('https://disk.yandex.ru/d/lJIahE6Y_mpQsw',',')\n",
    "checks = download_yd('https://disk.yandex.ru/d/9Rab4HMISynx_A',';')\n",
    "\n"
   ]
  },
  {
   "cell_type": "markdown",
   "metadata": {},
   "source": [
    "Для начала посмотрим на размеры датафреймов, количество пропущенных значений. Сразу предлагаю датафреймы groups и groups_add соединить вместе, и сделать один общий датафрейм о принадлежности пользователей к группам."
   ]
  },
  {
   "cell_type": "markdown",
   "metadata": {},
   "source": [
    "Считаем количество дубликатов"
   ]
  },
  {
   "cell_type": "code",
   "execution_count": 12,
   "metadata": {},
   "outputs": [
    {
     "name": "stdout",
     "output_type": "stream",
     "text": [
      "Количество дубликатов в датафреймах: \n",
      "groups - 0;\n",
      "groups_add - 0;\n",
      "active_studs - 0;\n",
      "checks - 0.\n"
     ]
    }
   ],
   "source": [
    "number_of_duplicates_groups = groups.id.duplicated().sum()\n",
    "number_of_duplicates_groups_add = groups_add.id.duplicated().sum()\n",
    "number_of_duplicates_active_studs = active_studs.student_id.duplicated().sum()\n",
    "number_of_duplicates_checks = checks.student_id.duplicated().sum()\n",
    "print(f'''Количество дубликатов в датафреймах: \n",
    "groups - {number_of_duplicates_groups};\n",
    "groups_add - {number_of_duplicates_groups_add};\n",
    "active_studs - {number_of_duplicates_active_studs};\n",
    "checks - {number_of_duplicates_checks}.''')"
   ]
  },
  {
   "cell_type": "markdown",
   "metadata": {},
   "source": [
    "Считаем количество пропущенных значений"
   ]
  },
  {
   "cell_type": "code",
   "execution_count": 13,
   "metadata": {},
   "outputs": [
    {
     "name": "stdout",
     "output_type": "stream",
     "text": [
      "Количество пропущенных значений:\n",
      "groups:\n",
      "id     0\n",
      "grp    0\n",
      "dtype: int64\n",
      "groups_add:\n",
      "id     0\n",
      "grp    0\n",
      "dtype: int64\n",
      "active_studs:\n",
      "student_id    0\n",
      "dtype: int64\n",
      "checks\n",
      "student_id    0\n",
      "rev           0\n",
      "dtype: int64\n",
      "Как видно пропущенные значения отсутствуют.\n"
     ]
    }
   ],
   "source": [
    "nan_groups = groups.isna().sum()\n",
    "nan_groups_add = groups_add.isna().sum()\n",
    "nan_active_studs = active_studs.isna().sum()\n",
    "nan_checks = checks.isna().sum()\n",
    "print(f'''Количество пропущенных значений:\n",
    "groups:\n",
    "{nan_groups}\n",
    "groups_add:\n",
    "{nan_groups_add}\n",
    "active_studs:\n",
    "{nan_active_studs}\n",
    "checks\n",
    "{nan_checks}''')\n",
    "print('Как видно пропущенные значения отсутствуют.')"
   ]
  },
  {
   "cell_type": "markdown",
   "metadata": {},
   "source": [
    "Проверим, есть ли в groups и group_add общие id, если нет то можно смело конкатенировать."
   ]
  },
  {
   "cell_type": "code",
   "execution_count": 14,
   "metadata": {},
   "outputs": [
    {
     "name": "stdout",
     "output_type": "stream",
     "text": [
      "Количество общих id в датафреймах groups и groups_add: 0, можно соединять.\n"
     ]
    }
   ],
   "source": [
    "common_ids = groups.id.isin(groups_add.id).sum()\n",
    "print(f'''Количество общих id в датафреймах groups и groups_add: {common_ids}, можно соединять.''')"
   ]
  },
  {
   "cell_type": "code",
   "execution_count": 15,
   "metadata": {},
   "outputs": [],
   "source": [
    "all_groups = pd.concat([groups,groups_add],ignore_index=True)"
   ]
  },
  {
   "cell_type": "code",
   "execution_count": 16,
   "metadata": {},
   "outputs": [
    {
     "data": {
      "text/html": [
       "<div>\n",
       "<style scoped>\n",
       "    .dataframe tbody tr th:only-of-type {\n",
       "        vertical-align: middle;\n",
       "    }\n",
       "\n",
       "    .dataframe tbody tr th {\n",
       "        vertical-align: top;\n",
       "    }\n",
       "\n",
       "    .dataframe thead th {\n",
       "        text-align: right;\n",
       "    }\n",
       "</style>\n",
       "<table border=\"1\" class=\"dataframe\">\n",
       "  <thead>\n",
       "    <tr style=\"text-align: right;\">\n",
       "      <th></th>\n",
       "      <th>id</th>\n",
       "      <th>grp</th>\n",
       "    </tr>\n",
       "  </thead>\n",
       "  <tbody>\n",
       "    <tr>\n",
       "      <th>0</th>\n",
       "      <td>1489</td>\n",
       "      <td>B</td>\n",
       "    </tr>\n",
       "    <tr>\n",
       "      <th>1</th>\n",
       "      <td>1627</td>\n",
       "      <td>A</td>\n",
       "    </tr>\n",
       "    <tr>\n",
       "      <th>2</th>\n",
       "      <td>1768</td>\n",
       "      <td>B</td>\n",
       "    </tr>\n",
       "    <tr>\n",
       "      <th>3</th>\n",
       "      <td>1783</td>\n",
       "      <td>B</td>\n",
       "    </tr>\n",
       "    <tr>\n",
       "      <th>4</th>\n",
       "      <td>1794</td>\n",
       "      <td>A</td>\n",
       "    </tr>\n",
       "    <tr>\n",
       "      <th>...</th>\n",
       "      <td>...</td>\n",
       "      <td>...</td>\n",
       "    </tr>\n",
       "    <tr>\n",
       "      <th>74571</th>\n",
       "      <td>200247820</td>\n",
       "      <td>B</td>\n",
       "    </tr>\n",
       "    <tr>\n",
       "      <th>74572</th>\n",
       "      <td>201032527</td>\n",
       "      <td>B</td>\n",
       "    </tr>\n",
       "    <tr>\n",
       "      <th>74573</th>\n",
       "      <td>201067612</td>\n",
       "      <td>B</td>\n",
       "    </tr>\n",
       "    <tr>\n",
       "      <th>74574</th>\n",
       "      <td>201067653</td>\n",
       "      <td>B</td>\n",
       "    </tr>\n",
       "    <tr>\n",
       "      <th>74575</th>\n",
       "      <td>201067659</td>\n",
       "      <td>B</td>\n",
       "    </tr>\n",
       "  </tbody>\n",
       "</table>\n",
       "<p>74576 rows × 2 columns</p>\n",
       "</div>"
      ],
      "text/plain": [
       "              id grp\n",
       "0           1489   B\n",
       "1           1627   A\n",
       "2           1768   B\n",
       "3           1783   B\n",
       "4           1794   A\n",
       "...          ...  ..\n",
       "74571  200247820   B\n",
       "74572  201032527   B\n",
       "74573  201067612   B\n",
       "74574  201067653   B\n",
       "74575  201067659   B\n",
       "\n",
       "[74576 rows x 2 columns]"
      ]
     },
     "execution_count": 16,
     "metadata": {},
     "output_type": "execute_result"
    }
   ],
   "source": [
    "all_groups"
   ]
  },
  {
   "cell_type": "markdown",
   "metadata": {},
   "source": [
    "У нас есть активные пользователи которые посещали сайт, и те кто совершал покупки. Проверим все ли пользователи есть в датафрейме all_groups, а также есть ли такие кто совершил покупку, но на сайт не заходил."
   ]
  },
  {
   "cell_type": "code",
   "execution_count": 17,
   "metadata": {},
   "outputs": [
    {
     "name": "stdout",
     "output_type": "stream",
     "text": [
      "Пользователи из датафрейма active_studs есть в all_groups.\n",
      "Пользователи из датафрейма checks есть в all_groups.\n"
     ]
    }
   ],
   "source": [
    "if active_studs.student_id.isin(all_groups.id).sum() == active_studs.shape[0]:\n",
    "    print('Пользователи из датафрейма active_studs есть в all_groups.')\n",
    "else:\n",
    "    print('Нужно подумать.')\n",
    "if checks.student_id.isin(all_groups.id).sum() == checks.shape[0]:\n",
    "    print('Пользователи из датафрейма checks есть в all_groups.')\n",
    "else:\n",
    "    print('Нужно подумать.')"
   ]
  },
  {
   "cell_type": "code",
   "execution_count": 18,
   "metadata": {},
   "outputs": [
    {
     "name": "stdout",
     "output_type": "stream",
     "text": [
      "Что-то не так. Число пользователей совершивших покупку, но не посетивших сайт - 149 человек.\n"
     ]
    }
   ],
   "source": [
    "diff = checks.student_id.count() - checks.student_id.isin(active_studs.student_id).sum()\n",
    "if diff==0:\n",
    "    print('Все кто совершил покупку, перед этим посетил сайт.')\n",
    "else:\n",
    "    print(f'Что-то не так. Число пользователей совершивших покупку, но не посетивших сайт - {diff} человек.')"
   ]
  },
  {
   "cell_type": "markdown",
   "metadata": {},
   "source": [
    "Теперь посмотрим на уникальные значения в датафреймах. Если все пользователи не встречаются в таблицах более 1 раза, соответственно число уникальных пользователей, должно соответствовать числу строк в датафрейме."
   ]
  },
  {
   "cell_type": "code",
   "execution_count": 19,
   "metadata": {},
   "outputs": [
    {
     "name": "stdout",
     "output_type": "stream",
     "text": [
      "Число неуникальных пользователей в датафреймах:\n",
      "checks - 0;\n",
      "all_groups - 0;\n",
      "active_studs - 0.\n",
      "Отсюда следует вывод, что все пользователи уникальны.\n"
     ]
    }
   ],
   "source": [
    "not_unique_checks = checks.shape[0] - checks.student_id.nunique()\n",
    "not_unique_all_groups = all_groups.shape[0] - all_groups.id.nunique()\n",
    "not_unique_active_studs = active_studs.shape[0] - active_studs.student_id.nunique()\n",
    "print(f'''Число неуникальных пользователей в датафреймах:\n",
    "checks - {not_unique_checks};\n",
    "all_groups - {not_unique_all_groups};\n",
    "active_studs - {not_unique_active_studs}.\n",
    "Отсюда следует вывод, что все пользователи уникальны.''')"
   ]
  },
  {
   "cell_type": "markdown",
   "metadata": {},
   "source": [
    "Проведя разведовательный анализ в данных, можно приступать к объединению датафреймов. Нужно сначала соединить датафрейм о совершении покупок пользователями 'checks' с датафреймом активных пользователей, которые просто посещали сайт 'active_studs'. Далее пропущенные значения заменим 0, и выясним к какой группе (А или В) принадлежит каждый пользователь. После чего избавиться от тех 149 пользователей, которые не посещали сайт, но совершили покупку (в дальнейшем буду называть их аномальные данные), причин такого явления может быть несколько: прошел автоплатеж, баги в программе или ошибочное проведение оплаты. Мы не располагаем информацией, что с ними произошло. Опять же, возникает вопрос, почему от них не избавиться до соединения датафреймов. Я решил посмотреть к каким группам они относятся, где их больше."
   ]
  },
  {
   "cell_type": "code",
   "execution_count": 20,
   "metadata": {},
   "outputs": [
    {
     "data": {
      "text/html": [
       "<div>\n",
       "<style scoped>\n",
       "    .dataframe tbody tr th:only-of-type {\n",
       "        vertical-align: middle;\n",
       "    }\n",
       "\n",
       "    .dataframe tbody tr th {\n",
       "        vertical-align: top;\n",
       "    }\n",
       "\n",
       "    .dataframe thead th {\n",
       "        text-align: right;\n",
       "    }\n",
       "</style>\n",
       "<table border=\"1\" class=\"dataframe\">\n",
       "  <thead>\n",
       "    <tr style=\"text-align: right;\">\n",
       "      <th></th>\n",
       "      <th>student_id</th>\n",
       "      <th>rev</th>\n",
       "      <th>grp</th>\n",
       "    </tr>\n",
       "  </thead>\n",
       "  <tbody>\n",
       "    <tr>\n",
       "      <th>0</th>\n",
       "      <td>1627</td>\n",
       "      <td>990.0</td>\n",
       "      <td>A</td>\n",
       "    </tr>\n",
       "    <tr>\n",
       "      <th>1</th>\n",
       "      <td>2085</td>\n",
       "      <td>0.0</td>\n",
       "      <td>B</td>\n",
       "    </tr>\n",
       "    <tr>\n",
       "      <th>2</th>\n",
       "      <td>2215</td>\n",
       "      <td>0.0</td>\n",
       "      <td>B</td>\n",
       "    </tr>\n",
       "    <tr>\n",
       "      <th>3</th>\n",
       "      <td>3185</td>\n",
       "      <td>690.0</td>\n",
       "      <td>B</td>\n",
       "    </tr>\n",
       "    <tr>\n",
       "      <th>4</th>\n",
       "      <td>3391</td>\n",
       "      <td>0.0</td>\n",
       "      <td>A</td>\n",
       "    </tr>\n",
       "    <tr>\n",
       "      <th>...</th>\n",
       "      <td>...</td>\n",
       "      <td>...</td>\n",
       "      <td>...</td>\n",
       "    </tr>\n",
       "    <tr>\n",
       "      <th>8485</th>\n",
       "      <td>5760471</td>\n",
       "      <td>0.0</td>\n",
       "      <td>B</td>\n",
       "    </tr>\n",
       "    <tr>\n",
       "      <th>8486</th>\n",
       "      <td>5777081</td>\n",
       "      <td>0.0</td>\n",
       "      <td>B</td>\n",
       "    </tr>\n",
       "    <tr>\n",
       "      <th>8487</th>\n",
       "      <td>5870856</td>\n",
       "      <td>0.0</td>\n",
       "      <td>A</td>\n",
       "    </tr>\n",
       "    <tr>\n",
       "      <th>8488</th>\n",
       "      <td>5945085</td>\n",
       "      <td>0.0</td>\n",
       "      <td>B</td>\n",
       "    </tr>\n",
       "    <tr>\n",
       "      <th>8489</th>\n",
       "      <td>5951797</td>\n",
       "      <td>0.0</td>\n",
       "      <td>B</td>\n",
       "    </tr>\n",
       "  </tbody>\n",
       "</table>\n",
       "<p>8490 rows × 3 columns</p>\n",
       "</div>"
      ],
      "text/plain": [
       "      student_id    rev grp\n",
       "0           1627  990.0   A\n",
       "1           2085    0.0   B\n",
       "2           2215    0.0   B\n",
       "3           3185  690.0   B\n",
       "4           3391    0.0   A\n",
       "...          ...    ...  ..\n",
       "8485     5760471    0.0   B\n",
       "8486     5777081    0.0   B\n",
       "8487     5870856    0.0   A\n",
       "8488     5945085    0.0   B\n",
       "8489     5951797    0.0   B\n",
       "\n",
       "[8490 rows x 3 columns]"
      ]
     },
     "execution_count": 20,
     "metadata": {},
     "output_type": "execute_result"
    }
   ],
   "source": [
    "user_and_client = active_studs.merge(checks, on='student_id', how='outer')\n",
    "user_and_client = user_and_client.fillna(0)\n",
    "all_groups = all_groups.rename(columns={'id':'student_id'})\n",
    "user_and_client_groups = user_and_client.merge(all_groups, on='student_id')\n",
    "# Находим id тех 149 человек.\n",
    "my_list = checks.query(\"student_id not in @active_studs.student_id\").student_id.tolist()\n",
    "user_and_client_groups"
   ]
  },
  {
   "cell_type": "code",
   "execution_count": 21,
   "metadata": {},
   "outputs": [],
   "source": [
    "# Переименуем для удобства\n",
    "user_and_client_groups = user_and_client_groups\\\n",
    "                        .rename(columns={'student_id':'user_id','rev':'revenue','grp':'group',})"
   ]
  },
  {
   "cell_type": "code",
   "execution_count": 22,
   "metadata": {},
   "outputs": [
    {
     "data": {
      "text/plain": [
       "group\n",
       "A     29\n",
       "B    120\n",
       "Name: user_id, dtype: int64"
      ]
     },
     "execution_count": 22,
     "metadata": {},
     "output_type": "execute_result"
    }
   ],
   "source": [
    "bagi = user_and_client_groups.query(\"user_id == @my_list\")\n",
    "# Смотрим количество пользователей в аномальных данных:\n",
    "bagi.groupby(\"group\").user_id.count()"
   ]
  },
  {
   "cell_type": "code",
   "execution_count": 23,
   "metadata": {},
   "outputs": [
    {
     "data": {
      "text/html": [
       "<div>\n",
       "<style scoped>\n",
       "    .dataframe tbody tr th:only-of-type {\n",
       "        vertical-align: middle;\n",
       "    }\n",
       "\n",
       "    .dataframe tbody tr th {\n",
       "        vertical-align: top;\n",
       "    }\n",
       "\n",
       "    .dataframe thead th {\n",
       "        text-align: right;\n",
       "    }\n",
       "</style>\n",
       "<table border=\"1\" class=\"dataframe\">\n",
       "  <thead>\n",
       "    <tr style=\"text-align: right;\">\n",
       "      <th></th>\n",
       "      <th>count</th>\n",
       "      <th>mean</th>\n",
       "      <th>std</th>\n",
       "      <th>min</th>\n",
       "      <th>25%</th>\n",
       "      <th>50%</th>\n",
       "      <th>75%</th>\n",
       "      <th>max</th>\n",
       "    </tr>\n",
       "    <tr>\n",
       "      <th>group</th>\n",
       "      <th></th>\n",
       "      <th></th>\n",
       "      <th></th>\n",
       "      <th></th>\n",
       "      <th></th>\n",
       "      <th></th>\n",
       "      <th></th>\n",
       "      <th></th>\n",
       "    </tr>\n",
       "  </thead>\n",
       "  <tbody>\n",
       "    <tr>\n",
       "      <th>A</th>\n",
       "      <td>29.0</td>\n",
       "      <td>664.689655</td>\n",
       "      <td>371.793347</td>\n",
       "      <td>199.0</td>\n",
       "      <td>290.0</td>\n",
       "      <td>690.0</td>\n",
       "      <td>690.0</td>\n",
       "      <td>1980.0000</td>\n",
       "    </tr>\n",
       "    <tr>\n",
       "      <th>B</th>\n",
       "      <td>120.0</td>\n",
       "      <td>718.800001</td>\n",
       "      <td>381.133906</td>\n",
       "      <td>199.0</td>\n",
       "      <td>371.0</td>\n",
       "      <td>690.0</td>\n",
       "      <td>990.0</td>\n",
       "      <td>1900.0001</td>\n",
       "    </tr>\n",
       "  </tbody>\n",
       "</table>\n",
       "</div>"
      ],
      "text/plain": [
       "       count        mean         std    min    25%    50%    75%        max\n",
       "group                                                                      \n",
       "A       29.0  664.689655  371.793347  199.0  290.0  690.0  690.0  1980.0000\n",
       "B      120.0  718.800001  381.133906  199.0  371.0  690.0  990.0  1900.0001"
      ]
     },
     "execution_count": 23,
     "metadata": {},
     "output_type": "execute_result"
    }
   ],
   "source": [
    "# Статистические характеристики аномальных данных:\n",
    "bagi.groupby('group').revenue.describe()"
   ]
  },
  {
   "cell_type": "code",
   "execution_count": 24,
   "metadata": {},
   "outputs": [
    {
     "data": {
      "text/plain": [
       "group\n",
       "A    19276.0\n",
       "B    86256.0\n",
       "Name: revenue, dtype: float64"
      ]
     },
     "execution_count": 24,
     "metadata": {},
     "output_type": "execute_result"
    }
   ],
   "source": [
    "# Выручка по группам аномальных данных:\n",
    "bagi.groupby('group').revenue.sum().round()"
   ]
  },
  {
   "cell_type": "code",
   "execution_count": 25,
   "metadata": {},
   "outputs": [
    {
     "data": {
      "text/plain": [
       "467794.0"
      ]
     },
     "execution_count": 25,
     "metadata": {},
     "output_type": "execute_result"
    }
   ],
   "source": [
    "# Общая выручка без учета аномальных данных\n",
    "user_and_client_groups.query(\"user_id != @my_list\").revenue.sum().round()"
   ]
  },
  {
   "cell_type": "markdown",
   "metadata": {},
   "source": [
    "Как видно выше число пользователей, которые не посещая сайт, совершили покупки гораздо выше в группе В, а также эти пользователи совершили покупок на большую сумму. Как сказано в условиях, это целевая группа, на нее распространилась новая механика сайта. Вывод: разработчикам следует уделить на это внимание, и разобраться почему так происходит.\n",
    "Ну теперь избавимся от аномальных данных и приступим к самому интересному:\n",
    "- расчет основных метрик;\n",
    "- проведение а/б тестов.\n"
   ]
  },
  {
   "cell_type": "code",
   "execution_count": 26,
   "metadata": {},
   "outputs": [],
   "source": [
    "user_and_client_groups = user_and_client_groups.query(\"user_id != @my_list\")"
   ]
  },
  {
   "cell_type": "code",
   "execution_count": 27,
   "metadata": {},
   "outputs": [
    {
     "data": {
      "text/html": [
       "<div>\n",
       "<style scoped>\n",
       "    .dataframe tbody tr th:only-of-type {\n",
       "        vertical-align: middle;\n",
       "    }\n",
       "\n",
       "    .dataframe tbody tr th {\n",
       "        vertical-align: top;\n",
       "    }\n",
       "\n",
       "    .dataframe thead th {\n",
       "        text-align: right;\n",
       "    }\n",
       "</style>\n",
       "<table border=\"1\" class=\"dataframe\">\n",
       "  <thead>\n",
       "    <tr style=\"text-align: right;\">\n",
       "      <th></th>\n",
       "      <th>user_id</th>\n",
       "      <th>revenue</th>\n",
       "      <th>group</th>\n",
       "    </tr>\n",
       "  </thead>\n",
       "  <tbody>\n",
       "    <tr>\n",
       "      <th>0</th>\n",
       "      <td>1627</td>\n",
       "      <td>990.0</td>\n",
       "      <td>A</td>\n",
       "    </tr>\n",
       "    <tr>\n",
       "      <th>1</th>\n",
       "      <td>2085</td>\n",
       "      <td>0.0</td>\n",
       "      <td>B</td>\n",
       "    </tr>\n",
       "    <tr>\n",
       "      <th>2</th>\n",
       "      <td>2215</td>\n",
       "      <td>0.0</td>\n",
       "      <td>B</td>\n",
       "    </tr>\n",
       "    <tr>\n",
       "      <th>4</th>\n",
       "      <td>3391</td>\n",
       "      <td>0.0</td>\n",
       "      <td>A</td>\n",
       "    </tr>\n",
       "    <tr>\n",
       "      <th>5</th>\n",
       "      <td>3401</td>\n",
       "      <td>0.0</td>\n",
       "      <td>B</td>\n",
       "    </tr>\n",
       "    <tr>\n",
       "      <th>...</th>\n",
       "      <td>...</td>\n",
       "      <td>...</td>\n",
       "      <td>...</td>\n",
       "    </tr>\n",
       "    <tr>\n",
       "      <th>8485</th>\n",
       "      <td>5760471</td>\n",
       "      <td>0.0</td>\n",
       "      <td>B</td>\n",
       "    </tr>\n",
       "    <tr>\n",
       "      <th>8486</th>\n",
       "      <td>5777081</td>\n",
       "      <td>0.0</td>\n",
       "      <td>B</td>\n",
       "    </tr>\n",
       "    <tr>\n",
       "      <th>8487</th>\n",
       "      <td>5870856</td>\n",
       "      <td>0.0</td>\n",
       "      <td>A</td>\n",
       "    </tr>\n",
       "    <tr>\n",
       "      <th>8488</th>\n",
       "      <td>5945085</td>\n",
       "      <td>0.0</td>\n",
       "      <td>B</td>\n",
       "    </tr>\n",
       "    <tr>\n",
       "      <th>8489</th>\n",
       "      <td>5951797</td>\n",
       "      <td>0.0</td>\n",
       "      <td>B</td>\n",
       "    </tr>\n",
       "  </tbody>\n",
       "</table>\n",
       "<p>8341 rows × 3 columns</p>\n",
       "</div>"
      ],
      "text/plain": [
       "      user_id  revenue group\n",
       "0        1627    990.0     A\n",
       "1        2085      0.0     B\n",
       "2        2215      0.0     B\n",
       "4        3391      0.0     A\n",
       "5        3401      0.0     B\n",
       "...       ...      ...   ...\n",
       "8485  5760471      0.0     B\n",
       "8486  5777081      0.0     B\n",
       "8487  5870856      0.0     A\n",
       "8488  5945085      0.0     B\n",
       "8489  5951797      0.0     B\n",
       "\n",
       "[8341 rows x 3 columns]"
      ]
     },
     "execution_count": 27,
     "metadata": {},
     "output_type": "execute_result"
    }
   ],
   "source": [
    "user_and_client_groups"
   ]
  },
  {
   "cell_type": "markdown",
   "metadata": {},
   "source": [
    "Посмотрим сколько пользователей находятся в каждой группе, как тех кто что-то купил, так и тех кто просто посетил сайт. посмотрим на общую выручку и на статистические характеристики."
   ]
  },
  {
   "cell_type": "code",
   "execution_count": 28,
   "metadata": {},
   "outputs": [
    {
     "data": {
      "text/plain": [
       "group\n",
       "A    1538\n",
       "B    6803\n",
       "Name: user_id, dtype: int64"
      ]
     },
     "execution_count": 28,
     "metadata": {},
     "output_type": "execute_result"
    }
   ],
   "source": [
    "# Распределение пользователей по группам\n",
    "user_and_client_groups.groupby('group').user_id.count()"
   ]
  },
  {
   "cell_type": "code",
   "execution_count": 29,
   "metadata": {},
   "outputs": [
    {
     "data": {
      "text/html": [
       "<div>\n",
       "<style scoped>\n",
       "    .dataframe tbody tr th:only-of-type {\n",
       "        vertical-align: middle;\n",
       "    }\n",
       "\n",
       "    .dataframe tbody tr th {\n",
       "        vertical-align: top;\n",
       "    }\n",
       "\n",
       "    .dataframe thead th {\n",
       "        text-align: right;\n",
       "    }\n",
       "</style>\n",
       "<table border=\"1\" class=\"dataframe\">\n",
       "  <thead>\n",
       "    <tr style=\"text-align: right;\">\n",
       "      <th></th>\n",
       "      <th>count</th>\n",
       "      <th>mean</th>\n",
       "      <th>std</th>\n",
       "      <th>min</th>\n",
       "      <th>25%</th>\n",
       "      <th>50%</th>\n",
       "      <th>75%</th>\n",
       "      <th>max</th>\n",
       "    </tr>\n",
       "    <tr>\n",
       "      <th>group</th>\n",
       "      <th></th>\n",
       "      <th></th>\n",
       "      <th></th>\n",
       "      <th></th>\n",
       "      <th></th>\n",
       "      <th></th>\n",
       "      <th></th>\n",
       "      <th></th>\n",
       "    </tr>\n",
       "  </thead>\n",
       "  <tbody>\n",
       "    <tr>\n",
       "      <th>A</th>\n",
       "      <td>78.0</td>\n",
       "      <td>933.59</td>\n",
       "      <td>919.93</td>\n",
       "      <td>199.0</td>\n",
       "      <td>290.00</td>\n",
       "      <td>585.0</td>\n",
       "      <td>1114.75</td>\n",
       "      <td>3660.0</td>\n",
       "    </tr>\n",
       "    <tr>\n",
       "      <th>B</th>\n",
       "      <td>314.0</td>\n",
       "      <td>1257.88</td>\n",
       "      <td>790.86</td>\n",
       "      <td>199.0</td>\n",
       "      <td>511.75</td>\n",
       "      <td>1140.0</td>\n",
       "      <td>1900.00</td>\n",
       "      <td>4650.0</td>\n",
       "    </tr>\n",
       "  </tbody>\n",
       "</table>\n",
       "</div>"
      ],
      "text/plain": [
       "       count     mean     std    min     25%     50%      75%     max\n",
       "group                                                                \n",
       "A       78.0   933.59  919.93  199.0  290.00   585.0  1114.75  3660.0\n",
       "B      314.0  1257.88  790.86  199.0  511.75  1140.0  1900.00  4650.0"
      ]
     },
     "execution_count": 29,
     "metadata": {},
     "output_type": "execute_result"
    }
   ],
   "source": [
    "# Посмотрим на распределение платящих пользователей по группам\n",
    "user_and_client_groups.query(\"revenue >0\").groupby('group').revenue.describe().round(2)"
   ]
  },
  {
   "cell_type": "markdown",
   "metadata": {},
   "source": [
    "Как видно выше в группе В у нас гораздо больше пользователей. Также в группе В статистические характеристики выше. Пока рано делать выводы. Идем дальше."
   ]
  },
  {
   "cell_type": "markdown",
   "metadata": {},
   "source": [
    "## Расчет метрик\n",
    "Располагая данными выше, предлагаю посчитать следующие метрики:\n",
    "###### CR - Конверсия пользователей в целевое действие или же отношение пользователей, совершивших покупки к общему числу пользователей\n",
    "###### ARPU - Доход с привлеченного пользователя.\n",
    "###### ARPPU - Доход на одного платящего пользователя.\n"
   ]
  },
  {
   "cell_type": "markdown",
   "metadata": {},
   "source": [
    "Создадим дополнительную колонку 'purchase' о совершении действия, если совершил покупку - 'yes', если нет - 'no'"
   ]
  },
  {
   "cell_type": "code",
   "execution_count": 30,
   "metadata": {},
   "outputs": [],
   "source": [
    "user_and_client_groups = user_and_client_groups\\\n",
    ".assign(purchase = user_and_client_groups['revenue'].apply(lambda x: 'no' if x == 0 else 'yes'))"
   ]
  },
  {
   "cell_type": "code",
   "execution_count": 31,
   "metadata": {},
   "outputs": [
    {
     "data": {
      "text/html": [
       "<div>\n",
       "<style scoped>\n",
       "    .dataframe tbody tr th:only-of-type {\n",
       "        vertical-align: middle;\n",
       "    }\n",
       "\n",
       "    .dataframe tbody tr th {\n",
       "        vertical-align: top;\n",
       "    }\n",
       "\n",
       "    .dataframe thead th {\n",
       "        text-align: right;\n",
       "    }\n",
       "</style>\n",
       "<table border=\"1\" class=\"dataframe\">\n",
       "  <thead>\n",
       "    <tr style=\"text-align: right;\">\n",
       "      <th></th>\n",
       "      <th>user_id</th>\n",
       "      <th>revenue</th>\n",
       "      <th>group</th>\n",
       "      <th>purchase</th>\n",
       "    </tr>\n",
       "  </thead>\n",
       "  <tbody>\n",
       "    <tr>\n",
       "      <th>0</th>\n",
       "      <td>1627</td>\n",
       "      <td>990.0</td>\n",
       "      <td>A</td>\n",
       "      <td>yes</td>\n",
       "    </tr>\n",
       "    <tr>\n",
       "      <th>1</th>\n",
       "      <td>2085</td>\n",
       "      <td>0.0</td>\n",
       "      <td>B</td>\n",
       "      <td>no</td>\n",
       "    </tr>\n",
       "    <tr>\n",
       "      <th>2</th>\n",
       "      <td>2215</td>\n",
       "      <td>0.0</td>\n",
       "      <td>B</td>\n",
       "      <td>no</td>\n",
       "    </tr>\n",
       "    <tr>\n",
       "      <th>4</th>\n",
       "      <td>3391</td>\n",
       "      <td>0.0</td>\n",
       "      <td>A</td>\n",
       "      <td>no</td>\n",
       "    </tr>\n",
       "    <tr>\n",
       "      <th>5</th>\n",
       "      <td>3401</td>\n",
       "      <td>0.0</td>\n",
       "      <td>B</td>\n",
       "      <td>no</td>\n",
       "    </tr>\n",
       "    <tr>\n",
       "      <th>...</th>\n",
       "      <td>...</td>\n",
       "      <td>...</td>\n",
       "      <td>...</td>\n",
       "      <td>...</td>\n",
       "    </tr>\n",
       "    <tr>\n",
       "      <th>8485</th>\n",
       "      <td>5760471</td>\n",
       "      <td>0.0</td>\n",
       "      <td>B</td>\n",
       "      <td>no</td>\n",
       "    </tr>\n",
       "    <tr>\n",
       "      <th>8486</th>\n",
       "      <td>5777081</td>\n",
       "      <td>0.0</td>\n",
       "      <td>B</td>\n",
       "      <td>no</td>\n",
       "    </tr>\n",
       "    <tr>\n",
       "      <th>8487</th>\n",
       "      <td>5870856</td>\n",
       "      <td>0.0</td>\n",
       "      <td>A</td>\n",
       "      <td>no</td>\n",
       "    </tr>\n",
       "    <tr>\n",
       "      <th>8488</th>\n",
       "      <td>5945085</td>\n",
       "      <td>0.0</td>\n",
       "      <td>B</td>\n",
       "      <td>no</td>\n",
       "    </tr>\n",
       "    <tr>\n",
       "      <th>8489</th>\n",
       "      <td>5951797</td>\n",
       "      <td>0.0</td>\n",
       "      <td>B</td>\n",
       "      <td>no</td>\n",
       "    </tr>\n",
       "  </tbody>\n",
       "</table>\n",
       "<p>8341 rows × 4 columns</p>\n",
       "</div>"
      ],
      "text/plain": [
       "      user_id  revenue group purchase\n",
       "0        1627    990.0     A      yes\n",
       "1        2085      0.0     B       no\n",
       "2        2215      0.0     B       no\n",
       "4        3391      0.0     A       no\n",
       "5        3401      0.0     B       no\n",
       "...       ...      ...   ...      ...\n",
       "8485  5760471      0.0     B       no\n",
       "8486  5777081      0.0     B       no\n",
       "8487  5870856      0.0     A       no\n",
       "8488  5945085      0.0     B       no\n",
       "8489  5951797      0.0     B       no\n",
       "\n",
       "[8341 rows x 4 columns]"
      ]
     },
     "execution_count": 31,
     "metadata": {},
     "output_type": "execute_result"
    }
   ],
   "source": [
    "user_and_client_groups"
   ]
  },
  {
   "cell_type": "code",
   "execution_count": 32,
   "metadata": {},
   "outputs": [],
   "source": [
    "# Для начала посчитаем общее количество пользователей, количество платящих пользователей, общую выручку\n",
    "metrics = user_and_client_groups.groupby('group', as_index=False)\\\n",
    "                                .agg({'revenue':'sum', 'user_id':'nunique'})\\\n",
    "                                .rename(columns={'revenue':'total_revenue', 'user_id':'all_users'})\\\n",
    "                                .round({'total_revenue':0})\n",
    "pay = user_and_client_groups.query(\"purchase=='yes'\").groupby('group',as_index=False).user_id.nunique()\\\n",
    "                            .rename(columns={'user_id':'paying_users'})\n",
    "metrics = metrics.merge(pay, on='group')"
   ]
  },
  {
   "cell_type": "code",
   "execution_count": 33,
   "metadata": {},
   "outputs": [
    {
     "data": {
      "text/html": [
       "<div>\n",
       "<style scoped>\n",
       "    .dataframe tbody tr th:only-of-type {\n",
       "        vertical-align: middle;\n",
       "    }\n",
       "\n",
       "    .dataframe tbody tr th {\n",
       "        vertical-align: top;\n",
       "    }\n",
       "\n",
       "    .dataframe thead th {\n",
       "        text-align: right;\n",
       "    }\n",
       "</style>\n",
       "<table border=\"1\" class=\"dataframe\">\n",
       "  <thead>\n",
       "    <tr style=\"text-align: right;\">\n",
       "      <th></th>\n",
       "      <th>group</th>\n",
       "      <th>version</th>\n",
       "      <th>paying_users</th>\n",
       "      <th>all_users</th>\n",
       "      <th>total_revenue</th>\n",
       "      <th>CR</th>\n",
       "      <th>ARPU</th>\n",
       "      <th>ARPPU</th>\n",
       "    </tr>\n",
       "  </thead>\n",
       "  <tbody>\n",
       "    <tr>\n",
       "      <th>0</th>\n",
       "      <td>A</td>\n",
       "      <td>Старая версия</td>\n",
       "      <td>78</td>\n",
       "      <td>1538</td>\n",
       "      <td>72820.0</td>\n",
       "      <td>5.07</td>\n",
       "      <td>47.35</td>\n",
       "      <td>933.59</td>\n",
       "    </tr>\n",
       "    <tr>\n",
       "      <th>1</th>\n",
       "      <td>B</td>\n",
       "      <td>Новая версия</td>\n",
       "      <td>314</td>\n",
       "      <td>6803</td>\n",
       "      <td>394974.0</td>\n",
       "      <td>4.62</td>\n",
       "      <td>58.06</td>\n",
       "      <td>1257.88</td>\n",
       "    </tr>\n",
       "  </tbody>\n",
       "</table>\n",
       "</div>"
      ],
      "text/plain": [
       "  group        version  paying_users  all_users  total_revenue    CR   ARPU  \\\n",
       "0     A  Старая версия            78       1538        72820.0  5.07  47.35   \n",
       "1     B   Новая версия           314       6803       394974.0  4.62  58.06   \n",
       "\n",
       "     ARPPU  \n",
       "0   933.59  \n",
       "1  1257.88  "
      ]
     },
     "execution_count": 33,
     "metadata": {},
     "output_type": "execute_result"
    }
   ],
   "source": [
    "# Далее считаем метрики\n",
    "metrics = metrics.assign(CR = metrics.paying_users/metrics.all_users*100).round({'CR':2})\n",
    "metrics = metrics.assign(ARPU = metrics.total_revenue/metrics.all_users).round({'ARPU':2})\n",
    "metrics = metrics.assign(ARPPU = metrics.total_revenue/metrics.paying_users).round({'ARPPU':2})\n",
    "metrics['version'] = metrics['group'].apply(lambda x: 'Старая версия' if x=='A' else 'Новая версия')\n",
    "metrics = metrics[['group', 'version', 'paying_users', 'all_users', 'total_revenue', 'CR', 'ARPU', 'ARPPU']]\n",
    "metrics"
   ]
  },
  {
   "cell_type": "code",
   "execution_count": 41,
   "metadata": {},
   "outputs": [
    {
     "name": "stderr",
     "output_type": "stream",
     "text": [
      "C:\\Users\\mirza\\AppData\\Local\\Temp\\ipykernel_44336\\2285484040.py:5: FutureWarning: \n",
      "\n",
      "Passing `palette` without assigning `hue` is deprecated and will be removed in v0.14.0. Assign the `x` variable to `hue` and set `legend=False` for the same effect.\n",
      "\n",
      "  sns.barplot(x=metrics['version'], y=metrics['CR'],palette='Set1')\n",
      "C:\\Users\\mirza\\AppData\\Local\\Temp\\ipykernel_44336\\2285484040.py:11: FutureWarning: \n",
      "\n",
      "Passing `palette` without assigning `hue` is deprecated and will be removed in v0.14.0. Assign the `x` variable to `hue` and set `legend=False` for the same effect.\n",
      "\n",
      "  sns.barplot(x=metrics['version'], y=metrics['ARPU'],palette='Set1')\n",
      "C:\\Users\\mirza\\AppData\\Local\\Temp\\ipykernel_44336\\2285484040.py:17: FutureWarning: \n",
      "\n",
      "Passing `palette` without assigning `hue` is deprecated and will be removed in v0.14.0. Assign the `x` variable to `hue` and set `legend=False` for the same effect.\n",
      "\n",
      "  sns.barplot(x=metrics['version'], y=metrics['ARPPU'],palette='Set1')\n"
     ]
    },
    {
     "data": {
      "image/png": "[encoded data removed]",
      "text/plain": [
       "<Figure size 1500x500 with 3 Axes>"
      ]
     },
     "metadata": {},
     "output_type": "display_data"
    }
   ],
   "source": [
    "sns.set_palette(\"bright\")\n",
    "plt.figure(figsize=(15, 5))\n",
    "\n",
    "plt.subplot(1, 3, 1)\n",
    "sns.barplot(x=metrics['version'], y=metrics['CR'],palette='Set1')\n",
    "plt.xlabel('Версия приложения')\n",
    "plt.ylabel('Conversion Rate, %')\n",
    "plt.title('Конверсия')\n",
    "\n",
    "plt.subplot(1, 3, 2)\n",
    "sns.barplot(x=metrics['version'], y=metrics['ARPU'],palette='Set1')\n",
    "plt.xlabel('Версия приложения')\n",
    "plt.ylabel('ARPU')\n",
    "plt.title('Доход на привлеченного пользователя')\n",
    "\n",
    "plt.subplot(1, 3, 3)\n",
    "sns.barplot(x=metrics['version'], y=metrics['ARPPU'],palette='Set1')\n",
    "plt.xlabel('Версия приложения')\n",
    "plt.ylabel('ARPPU')\n",
    "plt.title('Доход на платящего пользователя')\n",
    "plt.tight_layout()\n",
    "#plt.savefig('Основные метрики')\n",
    "plt.show()"
   ]
  },
  {
   "cell_type": "markdown",
   "metadata": {},
   "source": [
    "Мы посчитали основные метрики, которые могли были посчитать на основании наших данных. Теперь необходимо определиться, что мы будем тестировать, конверсию или доходы. Конверсия в разных версиях приложения отличается примерно на пол процента. А вот доходы как на привлеченного пользователя, так и на платящего более существенно."
   ]
  },
  {
   "cell_type": "markdown",
   "metadata": {},
   "source": [
    "Я решил для A/B теста выбрать ARPPU. При при расчете ARPPU учитываются только платящие пользователи, то есть те кто что-то купил. CR, в данном случае не особо удачная метрика для а/б теста. Так как я сказал выше сильных отличий нет. Однако в новой версии CR чуть меньше, но об этом поговорим позже. При Расчете ARPU учитываются все пользователи, но так как CR примерно одинаково, я уверен что результат а/б теста ARPU не будет сильно отличаться от ARPPU. На мой взгляд аналитик должен уметь выбирать именно нужную метрику для а/б теста."
   ]
  },
  {
   "cell_type": "markdown",
   "metadata": {},
   "source": [
    "Посмотрим на статистические характеристики. для этого обратимся к датафрейму user_and_client_groups и сделаем из него два датафрейма со старой и новой версией"
   ]
  },
  {
   "cell_type": "code",
   "execution_count": 37,
   "metadata": {},
   "outputs": [],
   "source": [
    "new_version = user_and_client_groups.query(\"group=='B' and purchase=='yes'\")\n",
    "old_version = user_and_client_groups.query(\"group=='A' and purchase=='yes'\")"
   ]
  },
  {
   "cell_type": "markdown",
   "metadata": {},
   "source": [
    "Посмотрим на нормальность распределения данных"
   ]
  },
  {
   "cell_type": "code",
   "execution_count": 44,
   "metadata": {},
   "outputs": [
    {
     "data": {
      "text/plain": [
       "Text(0, 0.5, 'Частота')"
      ]
     },
     "execution_count": 44,
     "metadata": {},
     "output_type": "execute_result"
    },
    {
     "data": {
      "image/png": "[encoded data removed]",
      "text/plain": [
       "<Figure size 1000x400 with 1 Axes>"
      ]
     },
     "metadata": {},
     "output_type": "display_data"
    }
   ],
   "source": [
    "plt.figure(figsize=(10, 4))\n",
    "sns.histplot(data=old_version, x='revenue', kde=True,color='blue', label='Старая версия')\n",
    "sns.histplot(data=new_version, x='revenue', kde=True,color='red', label='Новая версия')\n",
    "plt.legend()\n",
    "plt.title('Нормальность распределения ARPPU')\n",
    "plt.xlabel('Средний доход на платящего пользователя')\n",
    "plt.ylabel('Частота')\n",
    "#plt.savefig('Нормальность распределения ARPPU.jpeg')"
   ]
  },
  {
   "cell_type": "code",
   "execution_count": 48,
   "metadata": {},
   "outputs": [
    {
     "data": {
      "image/png": "[encoded data removed]",
      "text/plain": [
       "<Figure size 1500x600 with 1 Axes>"
      ]
     },
     "metadata": {},
     "output_type": "display_data"
    },
    {
     "data": {
      "image/png": "[encoded data removed]",
      "text/plain": [
       "<Figure size 1500x600 with 1 Axes>"
      ]
     },
     "metadata": {},
     "output_type": "display_data"
    }
   ],
   "source": [
    "plt.figure(figsize=(15, 6))\n",
    "sns.scatterplot(x='revenue', y=new_version.index, data=new_version, color='green', alpha=0.5)\n",
    "plt.xlabel('Выручка с покупки')\n",
    "plt.ylabel('Индекс')\n",
    "plt.title('Scatter Plot выручки новой версии продукта')\n",
    "#plt.savefig('Scatter plotnew.jpeg')\n",
    "plt.show()\n",
    "\n",
    "plt.figure(figsize=(15, 6))\n",
    "sns.scatterplot(x='revenue', y=old_version.index, data=old_version, color='blue', alpha=0.5)\n",
    "plt.xlabel('Выручка с покупки')\n",
    "plt.ylabel('Индекс')\n",
    "plt.title('Scatter Plot выручки новой версии продукта')\n",
    "#plt.savefig('Scatter plotold.jpeg')\n",
    "plt.show()\n"
   ]
  },
  {
   "cell_type": "markdown",
   "metadata": {},
   "source": [
    "Как видно из графиков выше распределения далеки от нормальных."
   ]
  },
  {
   "cell_type": "markdown",
   "metadata": {},
   "source": [
    "Построим боксплот"
   ]
  },
  {
   "cell_type": "code",
   "execution_count": 49,
   "metadata": {},
   "outputs": [
    {
     "name": "stderr",
     "output_type": "stream",
     "text": [
      "C:\\Users\\mirza\\AppData\\Local\\Temp\\ipykernel_44336\\655413081.py:3: SettingWithCopyWarning: \n",
      "A value is trying to be set on a copy of a slice from a DataFrame.\n",
      "Try using .loc[row_indexer,col_indexer] = value instead\n",
      "\n",
      "See the caveats in the documentation: https://pandas.pydata.org/pandas-docs/stable/user_guide/indexing.html#returning-a-view-versus-a-copy\n",
      "  df_boxplot['version'] = df_boxplot['group'].apply(lambda x: 'Старая версия' if x=='A' else 'Новая версия')\n"
     ]
    }
   ],
   "source": [
    "# Сделаем отдельных датафрейм для боксплота, для красивой визуализации.\n",
    "df_boxplot = user_and_client_groups.query(\"purchase=='yes'\")\n",
    "df_boxplot['version'] = df_boxplot['group'].apply(lambda x: 'Старая версия' if x=='A' else 'Новая версия')"
   ]
  },
  {
   "cell_type": "code",
   "execution_count": 51,
   "metadata": {},
   "outputs": [
    {
     "name": "stderr",
     "output_type": "stream",
     "text": [
      "C:\\Users\\mirza\\AppData\\Local\\Temp\\ipykernel_44336\\2047032043.py:2: FutureWarning: \n",
      "\n",
      "Passing `palette` without assigning `hue` is deprecated and will be removed in v0.14.0. Assign the `x` variable to `hue` and set `legend=False` for the same effect.\n",
      "\n",
      "  sns.boxplot(x='version', y='revenue', data=df_boxplot,palette='Set1')\n"
     ]
    },
    {
     "data": {
      "image/png": "[encoded data removed]",
      "text/plain": [
       "<Figure size 1000x600 with 1 Axes>"
      ]
     },
     "metadata": {},
     "output_type": "display_data"
    }
   ],
   "source": [
    "plt.figure(figsize=(10, 6))\n",
    "sns.boxplot(x='version', y='revenue', data=df_boxplot,palette='Set1')\n",
    "plt.xlabel('Версия приложения')\n",
    "plt.ylabel('Выручка')\n",
    "plt.title('Боксплот выручки по группам')\n",
    "plt.show()"
   ]
  },
  {
   "cell_type": "code",
   "execution_count": 52,
   "metadata": {},
   "outputs": [
    {
     "data": {
      "text/html": [
       "<div>\n",
       "<style scoped>\n",
       "    .dataframe tbody tr th:only-of-type {\n",
       "        vertical-align: middle;\n",
       "    }\n",
       "\n",
       "    .dataframe tbody tr th {\n",
       "        vertical-align: top;\n",
       "    }\n",
       "\n",
       "    .dataframe thead th {\n",
       "        text-align: right;\n",
       "    }\n",
       "</style>\n",
       "<table border=\"1\" class=\"dataframe\">\n",
       "  <thead>\n",
       "    <tr style=\"text-align: right;\">\n",
       "      <th></th>\n",
       "      <th>count</th>\n",
       "      <th>mean</th>\n",
       "      <th>std</th>\n",
       "      <th>min</th>\n",
       "      <th>25%</th>\n",
       "      <th>50%</th>\n",
       "      <th>75%</th>\n",
       "      <th>max</th>\n",
       "    </tr>\n",
       "    <tr>\n",
       "      <th>version</th>\n",
       "      <th></th>\n",
       "      <th></th>\n",
       "      <th></th>\n",
       "      <th></th>\n",
       "      <th></th>\n",
       "      <th></th>\n",
       "      <th></th>\n",
       "      <th></th>\n",
       "    </tr>\n",
       "  </thead>\n",
       "  <tbody>\n",
       "    <tr>\n",
       "      <th>Новая версия</th>\n",
       "      <td>314.0</td>\n",
       "      <td>1257.878992</td>\n",
       "      <td>790.864254</td>\n",
       "      <td>199.0</td>\n",
       "      <td>511.75</td>\n",
       "      <td>1140.0</td>\n",
       "      <td>1900.00</td>\n",
       "      <td>4650.0</td>\n",
       "    </tr>\n",
       "    <tr>\n",
       "      <th>Старая версия</th>\n",
       "      <td>78.0</td>\n",
       "      <td>933.589744</td>\n",
       "      <td>919.932711</td>\n",
       "      <td>199.0</td>\n",
       "      <td>290.00</td>\n",
       "      <td>585.0</td>\n",
       "      <td>1114.75</td>\n",
       "      <td>3660.0</td>\n",
       "    </tr>\n",
       "  </tbody>\n",
       "</table>\n",
       "</div>"
      ],
      "text/plain": [
       "               count         mean         std    min     25%     50%      75%  \\\n",
       "version                                                                         \n",
       "Новая версия   314.0  1257.878992  790.864254  199.0  511.75  1140.0  1900.00   \n",
       "Старая версия   78.0   933.589744  919.932711  199.0  290.00   585.0  1114.75   \n",
       "\n",
       "                  max  \n",
       "version                \n",
       "Новая версия   4650.0  \n",
       "Старая версия  3660.0  "
      ]
     },
     "execution_count": 52,
     "metadata": {},
     "output_type": "execute_result"
    }
   ],
   "source": [
    "# Посмотрим статистические характеристики платящих пользователей\n",
    "statistical_characteristics = df_boxplot.groupby('version').revenue.describe()\n",
    "statistical_characteristics"
   ]
  },
  {
   "cell_type": "code",
   "execution_count": 53,
   "metadata": {},
   "outputs": [
    {
     "name": "stdout",
     "output_type": "stream",
     "text": [
      "Статистика теста Левена: 3.075681699981606\n",
      "p-значение: 0.08025675761347023\n"
     ]
    }
   ],
   "source": [
    "#Проведение теста Левена на гомогенность дисперсий\n",
    "from scipy.stats import levene\n",
    "statistic, p_value = levene(old_version['revenue'], new_version['revenue'])\n",
    "print(\"Статистика теста Левена:\", statistic)\n",
    "print(\"p-значение:\", p_value)"
   ]
  },
  {
   "cell_type": "code",
   "execution_count": 57,
   "metadata": {},
   "outputs": [
    {
     "name": "stdout",
     "output_type": "stream",
     "text": [
      "Статистика теста Колмогорова-Смирнова: 0.323942511840601\n",
      "p-значение: 2.3982639149052183e-06\n"
     ]
    }
   ],
   "source": [
    "# Проведение теста Колмогорова-Смирнова на нормальность распределения данных\n",
    "from scipy.stats import ks_2samp\n",
    "statistic, p_value = ks_2samp(old_version['revenue'], new_version['revenue'])\n",
    "# Вывод результатов теста\n",
    "print(\"Статистика теста Колмогорова-Смирнова:\", statistic)\n",
    "print(\"p-значение:\", p_value)"
   ]
  },
  {
   "cell_type": "markdown",
   "metadata": {},
   "source": [
    "Как видно выше из тестов на нормальность, наши данные далеки от нормальных. Но однако, исходя из теста Левена, у нас достаточно оснований, чтобы считать, что наши дисперсии гомогенны."
   ]
  },
  {
   "cell_type": "markdown",
   "metadata": {},
   "source": [
    "## Выбор теста"
   ]
  },
  {
   "cell_type": "markdown",
   "metadata": {},
   "source": [
    "Как видно выше у нас отсутствует нормальность распределения данных. Я решил в данном случае применить bootstrap."
   ]
  },
  {
   "cell_type": "markdown",
   "metadata": {},
   "source": [
    "Напишем функции для проведения бутстрапа каждой версии приложения, сравним как по медиане, так и по среднему значению."
   ]
  },
  {
   "cell_type": "code",
   "execution_count": 58,
   "metadata": {},
   "outputs": [],
   "source": [
    "# Функция для проведения бутстрапа\n",
    "def bootstrap(data, stat_func, n_iterations=1000):\n",
    "    bootstrap_results = []\n",
    "    \n",
    "    for _ in range(n_iterations):\n",
    "        bootstrap_sample = np.random.choice(data, size=len(data), replace=True)\n",
    "        result = stat_func(bootstrap_sample)\n",
    "        bootstrap_results.append(result)\n",
    "    \n",
    "    return bootstrap_results"
   ]
  },
  {
   "cell_type": "code",
   "execution_count": 59,
   "metadata": {},
   "outputs": [
    {
     "name": "stdout",
     "output_type": "stream",
     "text": [
      "Среднее значение выборок новой версии приложения: 1262.3937754668789\n",
      "95% доверительный интервал средних значений новой версии приложения: [1174.70940477 1351.57485419]\n",
      "Среднее значение выборок старой версии приложения: 941.255435897436\n",
      "95% доверительный интервал средних значений старой версии приложения: [ 747.00897436 1157.93269231]\n"
     ]
    }
   ],
   "source": [
    "# Проведение бутстрапа для средних значений новой версии приложения:\n",
    "bootstrap_results_new_mean = bootstrap(new_version['revenue'], np.mean)\n",
    "\n",
    "# Вывод результатов для новой версии приложения:\n",
    "print(\"Среднее значение выборок новой версии приложения:\", np.mean(bootstrap_results_new_mean))\n",
    "print(\"95% доверительный интервал средних значений новой версии приложения:\", np.percentile(bootstrap_results_new_mean, [2.5, 97.5]))\n",
    "\n",
    "# Проведение бутстрапа для средних значений старой версии приложения:\n",
    "bootstrap_results_old_mean = bootstrap(old_version['revenue'], np.mean)\n",
    "\n",
    "# Вывод результатов для старой версии приложения:\n",
    "print(\"Среднее значение выборок старой версии приложения:\", np.mean(bootstrap_results_old_mean))\n",
    "print(\"95% доверительный интервал средних значений старой версии приложения:\", np.percentile(bootstrap_results_old_mean, [2.5, 97.5]))"
   ]
  },
  {
   "cell_type": "code",
   "execution_count": 60,
   "metadata": {},
   "outputs": [
    {
     "name": "stdout",
     "output_type": "stream",
     "text": [
      "Медианное значение выборок новой версии приложения: 1269.161\n",
      "95% доверительный интервал медианных значений новой версии приложения: [ 990. 1900.]\n",
      "Медианные значения выборок старой версии приложения: 589.9235\n",
      "95% доверительный интервал медианных значений старой версии приложения: [398. 690.]\n"
     ]
    }
   ],
   "source": [
    "# Проведение бутстрапа для медианных значений новой версии приложения:\n",
    "bootstrap_results_new_median = bootstrap(new_version['revenue'], np.median)\n",
    "\n",
    "# Вывод результатов для новой версии приложения:\n",
    "print(\"Медианное значение выборок новой версии приложения:\", np.mean(bootstrap_results_new_median))\n",
    "print(\"95% доверительный интервал медианных значений новой версии приложения:\", np.percentile(bootstrap_results_new_median, [2.5, 97.5]))\n",
    "\n",
    "\n",
    "# Проведение бутстрапа для медианных значений старой версии приложения:\n",
    "bootstrap_results_old_median = bootstrap(old_version['revenue'], np.median)\n",
    "\n",
    "# Вывод результатов для старой версии приложения:\n",
    "print(\"Медианные значения выборок старой версии приложения:\", np.mean(bootstrap_results_old_median))\n",
    "print(\"95% доверительный интервал медианных значений старой версии приложения:\", np.percentile(bootstrap_results_old_median, [2.5, 97.5]))"
   ]
  },
  {
   "cell_type": "markdown",
   "metadata": {},
   "source": [
    "## Вывод"
   ]
  },
  {
   "cell_type": "markdown",
   "metadata": {},
   "source": [
    "Как видно выше, у нас ARPU и ARPPU новой версии приложения гораздо выше, чем в старой. Статистический анализ показал, что наши данные по выручке статистически значимо различаются. В связи с этим у нас есть основания полагать, что стоит выкатить новую версию приложения. Конверсия в покупку в новой версии приложения получилась чуть меньше. Возможно это связано с тем, что минимальная сумма покупки увеличилась или еще с чем-то, это необходимо выяснить разработчикам, возможно просто так получилось во время эксперимента. Еше стоит обратить внимание на ту аномалию, почему пользователи которые не посещали сайт, совершили оплату, так как в новой версии приложения их гораздо больше."
   ]
  }
 ],
 "metadata": {
  "kernelspec": {
   "display_name": "Python 3 (ipykernel)",
   "language": "python",
   "name": "python3"
  },
  "language_info": {
   "codemirror_mode": {
    "name": "ipython",
    "version": 3
   },
   "file_extension": ".py",
   "mimetype": "text/x-python",
   "name": "python",
   "nbconvert_exporter": "python",
   "pygments_lexer": "ipython3",
   "version": "3.12.1"
  }
 },
 "nbformat": 4,
 "nbformat_minor": 4
}
